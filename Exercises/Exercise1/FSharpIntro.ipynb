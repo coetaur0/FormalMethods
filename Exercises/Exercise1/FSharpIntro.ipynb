{
 "cells": [
  {
   "cell_type": "markdown",
   "metadata": {},
   "source": [
    "# Programming with F#"
   ]
  },
  {
   "cell_type": "markdown",
   "metadata": {},
   "source": [
    "## What is F# ?\n",
    "\n",
    "[F#](https://learn.microsoft.com/en-us/dotnet/fsharp/what-is-fsharp) is a [statically typed](https://en.wikipedia.org/wiki/Type_system#Static_type_checking), [functional](https://en.wikipedia.org/wiki/Functional_programming) programming language that is part of the [ML](https://en.wikipedia.org/wiki/ML_(programming_language)) family.\n",
    "Originally intended to be an implementation of [OCaml](https://ocaml.org/) (another ML family language) on [.NET](https://dotnet.microsoft.com/en-us/) (the virtual machine used by Microsoft for its home-grown programming languages, such as [C#](https://en.wikipedia.org/wiki/C_Sharp_(programming_language)) and [Visual Basic](https://en.wikipedia.org/wiki/Visual_Basic_.NET)), F# has eventually evolved to become its own, separate language.\n",
    "\n",
    "The advantages of F# for software development are manifold:\n",
    "\n",
    "* Thanks to its strong, static type system, programs written in F# are guaranteed to be free from a wide range of errors otherwise common in dynamic languages such as Python or Ruby.\n",
    "It is a good example of the famous principle of [type safety](https://en.wikipedia.org/wiki/Type_safety) described by Robin Milner in 1978 and stating that \"well typed programs do not go wrong\".\n",
    "\n",
    "* Altough F# is statically typed, programmers only very rarely need to write down type annotations in the language, thanks to the powerful [Hindley-Milner](https://en.wikipedia.org/wiki/Hindley%E2%80%93Milner_type_system) type inference algorithm used by its compiler.\n",
    "This can often give programmers the illusion of writing in a dynamic language, while retaining static type safety.\n",
    "\n",
    "* Being a functional programming language, F# encourages a declarative style of programming based on the composition of functions applied on immutable objects, with minimal use of side effects. This makes reasoning about programs easier that in imperative languages, which include a mutable state that can change at any moment and implicitly influence computations.\n",
    "\n",
    "* Although F# is designed to be *functional-first*, other approaches like the [object-oriented](https://en.wikipedia.org/wiki/Object-oriented_programming) paradigm are also supported by the language. In fact, F# is fully interoperable with C#, an object-oriented programming language widely used in the industry. This means that the rich ecosystem of libraries available for C# is also usable from F#.\n",
    "\n",
    "* Being an ML family member, F# is equipped with [algebraic data types](https://en.wikipedia.org/wiki/Algebraic_data_type) and [pattern matching](https://en.wikipedia.org/wiki/Pattern_matching), two powerful abstraction mechanisms that make it very expressive.\n",
    "\n",
    "In addition to all of the elements cited above, we will see that F# is also a good fit to implement the notions that will be addressed in the *formal methods* course.\n",
    "The high-level of abstraction of the language will allow us to easily express mathematical concepts and make the translation from theory to practice relatively straightforward. "
   ]
  },
  {
   "cell_type": "markdown",
   "metadata": {},
   "source": [
    "## An Introduction to F#"
   ]
  }
 ],
 "metadata": {
  "kernelspec": {
   "display_name": ".NET (F#)",
   "language": "F#",
   "name": ".net-fsharp"
  },
  "language_info": {
   "name": "F#"
  }
 },
 "nbformat": 4,
 "nbformat_minor": 2
}
