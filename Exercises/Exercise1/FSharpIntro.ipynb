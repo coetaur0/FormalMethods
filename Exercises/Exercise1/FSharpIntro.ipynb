{
 "cells": [
  {
   "cell_type": "markdown",
   "metadata": {},
   "source": [
    "# Programming with F\\#"
   ]
  },
  {
   "cell_type": "markdown",
   "metadata": {},
   "source": [
    "## What is F# ?\n",
    "\n",
    "[F#](https://learn.microsoft.com/en-us/dotnet/fsharp/what-is-fsharp) is a [statically typed](https://en.wikipedia.org/wiki/Type_system#Static_type_checking), [functional](https://en.wikipedia.org/wiki/Functional_programming) programming language that is part of the [ML](https://en.wikipedia.org/wiki/ML_(programming_language) ) family.\n",
    "Originally intended to be an implementation of [OCaml](https://ocaml.org/) (another ML family language) on [.NET](https://dotnet.microsoft.com/en-us/) (the virtual machine used by Microsoft for its home-grown programming languages, such as [C#](https://en.wikipedia.org/wiki/C_Sharp_(programming_language) ) and [Visual Basic](https://en.wikipedia.org/wiki/Visual_Basic_.NET)), F# has eventually evolved to become a separate, full blown programming language.\n",
    "\n",
    "The advantages of F# for software development are manifold:\n",
    "\n",
    "* Thanks to its strong, static type system, programs written in F# are guaranteed to be free from a wide range of errors otherwise common in dynamic languages such as Python or Ruby.\n",
    "It is a good example of the famous principle of [type safety](https://en.wikipedia.org/wiki/Type_safety) described by Robin Milner in 1978, stating that \"well typed programs do not go wrong\".\n",
    "\n",
    "* Altough F# is statically typed, programmers only very rarely need to write down type annotations in the language, thanks to the powerful [Hindley-Milner](https://en.wikipedia.org/wiki/Hindley%E2%80%93Milner_type_system) type inference algorithm used by its compiler.\n",
    "This can often give programmers the illusion of writing in a dynamic language, while retaining static type safety.\n",
    "\n",
    "* Being a functional programming language, F# encourages a declarative style of programming based on the composition of functions applied on immutable objects, with minimal use of side effects. This makes reasoning about programs easier than in imperative languages, which include a mutable state that can change at any moment and implicitly influence computations.\n",
    "\n",
    "* Although F# is designed to be *functional-first*, other approaches like the [object-oriented](https://en.wikipedia.org/wiki/Object-oriented_programming) paradigm are also supported by the language. In fact, F# is fully interoperable with C#, an object-oriented programming language widely used in the industry. This means that the rich ecosystem of libraries available for C# is also usable from F#.\n",
    "\n",
    "* Being an ML family member, F# is equipped with [algebraic data types](https://en.wikipedia.org/wiki/Algebraic_data_type) and [pattern matching](https://en.wikipedia.org/wiki/Pattern_matching), two powerful abstraction mechanisms that make it very expressive.\n",
    "\n",
    "In addition to all of the elements cited above, we will see that F# is also a good fit to implement the notions that will be addressed in the *formal methods* course.\n",
    "The high-level of abstraction of the language will allow us to easily express mathematical concepts and make the translation from theory to practice relatively straightforward. "
   ]
  },
  {
   "cell_type": "markdown",
   "metadata": {},
   "source": [
    "## F# Basics\n",
    "\n",
    "### Hello, World !\n",
    "\n",
    "Here is the customary *hello world* example written in F#:"
   ]
  },
  {
   "cell_type": "code",
   "execution_count": null,
   "metadata": {
    "dotnet_interactive": {
     "language": "fsharp"
    },
    "vscode": {
     "languageId": "dotnet-interactive.fsharp"
    }
   },
   "outputs": [
    {
     "name": "stdout",
     "output_type": "stream",
     "text": [
      "Hello, World!\r\n"
     ]
    }
   ],
   "source": [
    "printfn \"Hello, World!\""
   ]
  },
  {
   "cell_type": "markdown",
   "metadata": {},
   "source": [
    "In the code above, `printfn` is the name of a function from the language's standard library that can be used to print strings. \n",
    "The example shows how functions are called in F# (and in most other functional programming languages): the name of the function to be applied is written, followed by a list of arguments separated by spaces.\n",
    "Here, only one argument is passed to `printfn`, the string `\"Hello, World!\"`."
   ]
  },
  {
   "cell_type": "markdown",
   "metadata": {},
   "source": [
    "### Expressions\n",
    "\n",
    "The *hello world* program from the previous section is an example of a simple **expression** in F#.\n",
    "Expressions are a central element in functional languages: they express **computations** that need to be performed and that **evaluate** to values that can be manipulated in a program.\n",
    "Function application and operations on numbers are examples of expressions. \n",
    "We will see that, in functional languages, control structures such as `if/then/else` are also expressions, because they return values and they can be used as arguments in function applications or in variable definitions, for example."
   ]
  },
  {
   "cell_type": "markdown",
   "metadata": {},
   "source": [
    "#### Primitive Types:\n",
    "\n",
    "A number of primitive types are defined in F#:\n",
    "\n",
    "* **Integers**: they are expressed with literals in decimal form, such as `42` or `1337`. The usual operators are defined on them (`+`, `-`, `*`, `/`, etc.). Their type is `int`. An example of an expression that evaluates to an integer value is `42 * 2 - 12`.\n",
    "\n",
    "* **Floats**: floating point numbers are expressed as numbers with a decimal part, such as `0.5` or `1.3333333`. Again, the usual operators are defined on them. Their type is `float`. An example of an expression that evaluates to a `float` is `1.5 * 3.5`.\n",
    "\n",
    "* **Booleans**: the set of boolean values is `true` and `false`. Their type is denoted `bool`. The usual operations are defined on them: `||`, `&&`, `not`, etc. Comparison expressions (like `3 < 4`, for example) evaluate to boolean values. An example of an expression that evaluates to a `bool` is `3 < 10 = true || false`. Here, `=` is the equality operator, which would be written `==` in an imperative language like C.\n",
    "\n",
    "* **Strings**: string literals are written between quotes, as we saw in the *hello world* example. Their type is `string`. In F#, it is possible to embed expressions inside of strings, which are then replaced by their result at runtime. Those special strings (called **interpolated strings**) are prepended with a `$` sign and expressions to be evaluated inside of them are placed between brackets. For example, the string `$\"{3 * 3}\"` evaluates to `\"9\"` at runtime.\n",
    "\n",
    "* **Unit**: in functional languages, the special `unit` type is used to denote the absence of a meaningful value in a computation. It is more or less equivalent to `void` in C, or `None` in Python. `unit` is used to give a type to expressions that perform some action like printing a string in the console and whose return value is unimportant. The only value that has type `unit` in F# is `()`, the empty tuple. "
   ]
  },
  {
   "cell_type": "markdown",
   "metadata": {},
   "source": [
    "#### Conditional expressions\n",
    "\n",
    "The syntax for conditionals in F# is:\n",
    "\n",
    "```f#\n",
    "if condition then expression1 else expression2\n",
    "```\n",
    "\n",
    "where `condition` is an expression that must evaluate to a boolean value, `expression1` is the expression that is evaluated if `condition` is `true`, and `expression2` is the expression that is evaluated otherwise.\n",
    "The types of `expression1` and `expression2` must be compatible (they must be the same, or one must be a [subtype](https://en.wikipedia.org/wiki/Subtyping) of the other). \n",
    "As mentioned before, one particularity in functional languages is that conditionals are expressions, which means that they evaluate to a value:"
   ]
  },
  {
   "cell_type": "code",
   "execution_count": null,
   "metadata": {
    "dotnet_interactive": {
     "language": "fsharp"
    },
    "vscode": {
     "languageId": "dotnet-interactive.fsharp"
    }
   },
   "outputs": [
    {
     "data": {
      "text/plain": [
       "smaller"
      ]
     },
     "metadata": {},
     "output_type": "display_data"
    }
   ],
   "source": [
    "if 5 < 10 then \"smaller\" else \"greater\""
   ]
  },
  {
   "cell_type": "markdown",
   "metadata": {},
   "source": [
    "In the example above, because `5 < 10` is `true`, the result of the whole conditional expression is `\"smaller\"`. \n",
    "If the condition had been false, the result would have been `\"greater\"`."
   ]
  },
  {
   "cell_type": "markdown",
   "metadata": {},
   "source": [
    "### Variables\n",
    "\n",
    "Variables can be defined in F# with the syntax: \n",
    "\n",
    "```f#\n",
    "let name = expression\n",
    "\n",
    "otherExpression\n",
    "```\n",
    "\n",
    "where `name` is the name to give to the variable, `expression` is the expression whose value must be assigned to `name`, and `otherExpression` is just another expression to be evaluated after the variable definition that can use the variable's name in its body.\n",
    "\n",
    "Here is an example of a variable definition followed by its use:"
   ]
  },
  {
   "cell_type": "code",
   "execution_count": null,
   "metadata": {
    "dotnet_interactive": {
     "language": "fsharp"
    },
    "vscode": {
     "languageId": "dotnet-interactive.fsharp"
    }
   },
   "outputs": [
    {
     "data": {
      "text/html": [
       "<div class=\"dni-plaintext\">1764</div>"
      ]
     },
     "metadata": {},
     "output_type": "display_data"
    }
   ],
   "source": [
    "let x = 42\n",
    "\n",
    "x * x"
   ]
  },
  {
   "cell_type": "markdown",
   "metadata": {},
   "source": [
    "Notice how there is no need to specify the type of the variable being defined anywhere. \n",
    "This is thanks to *type inference*: the compiler is able to automatically infer what the type of the variable is, based on the type of the expression that is assigned to it.\n",
    "\n",
    "If the expression that must be assigned to a variable is too long to fit on one line, it can be written on the next.\n",
    "However, because F# is an **indentation based** language (like Python or Haskell), the expression must be indented to the right (the convention in F# is to use 4 spaces for each new indentation level):"
   ]
  },
  {
   "cell_type": "code",
   "execution_count": null,
   "metadata": {
    "dotnet_interactive": {
     "language": "fsharp"
    },
    "vscode": {
     "languageId": "dotnet-interactive.fsharp"
    }
   },
   "outputs": [
    {
     "name": "stdout",
     "output_type": "stream",
     "text": [
      "A string that is way too long to be written on a single line, because we like our lines to remain below 100 characters\r\n"
     ]
    }
   ],
   "source": [
    "let str =\n",
    "    \"A string that is way too long to be written on a single line, because we like our lines to \\\n",
    "     remain below 100 characters\"\n",
    "\n",
    "printfn $\"{str}\""
   ]
  },
  {
   "cell_type": "markdown",
   "metadata": {},
   "source": [
    "One particularity of variables in functional languages is that they aren't really 'variables' in the same sense as in imperative languages.\n",
    "By default, once they have been defined, they cannot be **mutated**.\n",
    "Variables in functional languages, like most things, are **immutable by default**.\n",
    "Conceptually, they are more similar to variables in mathematics: they are just names used to *abstract* over some value.\n",
    "\n",
    "It is possible, however, to make variables mutable in F# by using the `mutable` keyword.\n",
    "Mutable variables can then be modified later in the program by using the `<-` operator, as follows:"
   ]
  },
  {
   "cell_type": "code",
   "execution_count": null,
   "metadata": {
    "dotnet_interactive": {
     "language": "fsharp"
    },
    "vscode": {
     "languageId": "dotnet-interactive.fsharp"
    }
   },
   "outputs": [
    {
     "name": "stdout",
     "output_type": "stream",
     "text": [
      "43\r\n"
     ]
    }
   ],
   "source": [
    "let mutable x = 42\n",
    "\n",
    "x <- x + 1\n",
    "\n",
    "printfn $\"{x}\""
   ]
  },
  {
   "cell_type": "markdown",
   "metadata": {},
   "source": [
    "Although F# makes it possible to mutate variables, this style of programming is generally avoided in functional languages. \n",
    "We will see that we will actually almost never need to mutate variables in our programs."
   ]
  },
  {
   "cell_type": "markdown",
   "metadata": {},
   "source": [
    "### Functions\n",
    "\n",
    "Functions can be defined similarly to variables, with the following syntax:\n",
    "\n",
    "```f#\n",
    "let name param1 param2 ... paramN = expression\n",
    "\n",
    "otherExpression\n",
    "```\n",
    "\n",
    "where `name` is the name to give to the function, `param1` to `paramN` are the names of the parameters of the function, `expression` is the function's body and `otherExpression` is some expression evaluated after the function definition that can use it.\n",
    "\n",
    "Just like with variables, there is no need to specify the types of the parameters or of the return value of a function in its declaration, because the compiler can infer it.\n",
    "Be aware that type inference is however (very) different from dynamic typing!\n",
    "Although no type annotations are needed, the compiler still determines the types of all expressions statically, before executing a program. \n",
    "Therefore, if there is a type error in an expression, it will be discovered during compilation, before even trying to run the application.\n",
    "This is a very powerful mechanism, because it can prevent many kinds errors from ever happening, like adding a boolean with an integer, for example.\n",
    "\n",
    "Although type annotations aren't necessary, it is still possible to specify them if we want to *constrain* our function to a certain type, with the following syntax:\n",
    "\n",
    "```f#\n",
    "let name (param1: Type1) ... (paramN: TypeN) : ReturnType = expression\n",
    "```\n",
    "\n",
    "Manually constraining a function to some type can be useful when writing APIs, to make sure that they cannot change over time, when their implementation is modified.\n",
    "It also makes the signature of functions explicit to other programmers reading your code, which can help them understand how to use them.\n",
    "It is generally recommended to always annotate public APIs in F# with types. \n",
    "\n",
    "We have already seen the syntax to apply functions on arguments before:\n",
    "\n",
    "```f#\n",
    "funExpr arg1 ... argN\n",
    "```\n",
    "\n",
    "where `funExpr` is an expression evaluating to a function and `arg1` to `argN` are the arguments.\n",
    "Here is an example of a function definition followed by its application:"
   ]
  },
  {
   "cell_type": "code",
   "execution_count": null,
   "metadata": {
    "dotnet_interactive": {
     "language": "fsharp"
    },
    "vscode": {
     "languageId": "dotnet-interactive.fsharp"
    }
   },
   "outputs": [
    {
     "data": {
      "text/html": [
       "<div class=\"dni-plaintext\">4</div>"
      ]
     },
     "metadata": {},
     "output_type": "display_data"
    }
   ],
   "source": [
    "let square x = x * x\n",
    "\n",
    "square 2"
   ]
  },
  {
   "cell_type": "markdown",
   "metadata": {},
   "source": [
    "Just as with variables, the body of a function can be written on the next line by indenting it.\n",
    "\n",
    "In order to make a function [recursive](https://en.wikipedia.org/wiki/Recursion), the `rec` keyword can be used:"
   ]
  },
  {
   "cell_type": "code",
   "execution_count": null,
   "metadata": {
    "dotnet_interactive": {
     "language": "fsharp"
    },
    "vscode": {
     "languageId": "dotnet-interactive.fsharp"
    }
   },
   "outputs": [
    {
     "data": {
      "text/html": [
       "<div class=\"dni-plaintext\">720</div>"
      ]
     },
     "metadata": {},
     "output_type": "display_data"
    }
   ],
   "source": [
    "let rec factorial n = \n",
    "    if n <= 1 then \n",
    "        1\n",
    "    else\n",
    "        n * (factorial (n - 1))\n",
    "\n",
    "factorial 6"
   ]
  },
  {
   "cell_type": "markdown",
   "metadata": {},
   "source": [
    "The order of declarations is important in F#. This means that if a function `g` is declared after another function `f`, `g` cannot be used inside of `f`. \n",
    "Therefore, if functions need to be *mutually recursive*, the `and` keyword must be used: "
   ]
  },
  {
   "cell_type": "code",
   "execution_count": null,
   "metadata": {
    "dotnet_interactive": {
     "language": "fsharp"
    },
    "vscode": {
     "languageId": "dotnet-interactive.fsharp"
    }
   },
   "outputs": [
    {
     "data": {
      "text/html": [
       "<div class=\"dni-plaintext\">False</div>"
      ]
     },
     "metadata": {},
     "output_type": "display_data"
    }
   ],
   "source": [
    "let rec even n = if n = 0 then true else odd (n - 1)\n",
    "\n",
    "and odd n = if n = 0 then false else even (n - 1)\n",
    "\n",
    "even 13"
   ]
  },
  {
   "cell_type": "markdown",
   "metadata": {},
   "source": [
    "In functional languages like F#, functions are **first-class**.\n",
    "What this means in practice is that they are values that can be manipulated just like any other object in a program: they can be assigned to variables, passed as arguments to other functions, or be the result of an expression.\n",
    "For example, the following code is perfectly valid:"
   ]
  },
  {
   "cell_type": "code",
   "execution_count": null,
   "metadata": {
    "dotnet_interactive": {
     "language": "fsharp"
    },
    "vscode": {
     "languageId": "dotnet-interactive.fsharp"
    }
   },
   "outputs": [
    {
     "data": {
      "text/html": [
       "<div class=\"dni-plaintext\">-12</div>"
      ]
     },
     "metadata": {},
     "output_type": "display_data"
    }
   ],
   "source": [
    "let f x y = x * (1 - y)\n",
    "\n",
    "let g x y = y - x * 4\n",
    "\n",
    "let h = if true then f else g\n",
    "\n",
    "h 3 5"
   ]
  },
  {
   "cell_type": "markdown",
   "metadata": {},
   "source": [
    "In the snippet above, two functions `f` and `g` are defined, a variable `h` is then set to be equal to either `f` or `g`, depending on some condition, and `h` is finally called with two arguments. \n",
    "\n",
    "Because functions are values, it is also possible to define them in expressions as *anonymous*, or *lambda expressions*, with the syntax:\n",
    "\n",
    "```f#\n",
    "fun param1 ... paramN -> expression\n",
    "```\n",
    "\n",
    "For example, the two definitions below are equivalent:"
   ]
  },
  {
   "cell_type": "code",
   "execution_count": null,
   "metadata": {
    "dotnet_interactive": {
     "language": "fsharp"
    },
    "vscode": {
     "languageId": "dotnet-interactive.fsharp"
    }
   },
   "outputs": [
    {
     "name": "stdout",
     "output_type": "stream",
     "text": [
      "3\r\n",
      "3\r\n"
     ]
    }
   ],
   "source": [
    "let f x y = x + y\n",
    "\n",
    "let g = fun x y -> x + y\n",
    "\n",
    "printfn $\"{f 1 2}\"\n",
    "\n",
    "printfn $\"{g 1 2}\""
   ]
  },
  {
   "cell_type": "markdown",
   "metadata": {},
   "source": [
    "Lambda expressions are useful when a function must be used (for example as an argument to some other function), but we don't want to give it its own definition in the program, because it is never used anywhere else."
   ]
  },
  {
   "cell_type": "markdown",
   "metadata": {},
   "source": [
    "In addition to being first-class, another peculiarity of functions in functional languages is that they are [curried](https://en.wikipedia.org/wiki/Currying) by default.\n",
    "What this means is that they are always defined for a single parameter, and functions with multiple parameters are just syntactic sugar for sequences of functions returning other functions.\n",
    "For example, the function `fun x y z -> x - y - z` is actually shorthand for `fun x -> fun y -> fun z -> x - y - z`.\n",
    "A nice consequence of this is that functions can always be *partially applied*.\n",
    "For example, if a function expecting 3 arguments is only given 2 when it is applied, it returns another function waiting for the last argument instead of some result:"
   ]
  },
  {
   "cell_type": "code",
   "execution_count": null,
   "metadata": {
    "dotnet_interactive": {
     "language": "fsharp"
    },
    "vscode": {
     "languageId": "dotnet-interactive.fsharp"
    }
   },
   "outputs": [
    {
     "data": {
      "text/html": [
       "<div class=\"dni-plaintext\">4</div>"
      ]
     },
     "metadata": {},
     "output_type": "display_data"
    }
   ],
   "source": [
    "// We define a function f taking 3 numbers as parameters and subtracting them.\n",
    "let f x y z = x - y - z\n",
    "\n",
    "// We apply f to the numbers 10 and 5, but we omit the last argument. The result of f can therefore\n",
    "// not be computed yet, so the value stored in g is another function waiting for the value of z.\n",
    "let g = f 10 5\n",
    "\n",
    "// We apply g to the number 1, so now the value of x - y - z with x = 10, y = 5 and z = 1 can be \n",
    "// computed.\n",
    "g 1 "
   ]
  },
  {
   "cell_type": "markdown",
   "metadata": {},
   "source": [
    "The type of a function taking an argument of type `InputType` and returning a value of type `ReturnType` is written `InputType -> ReturnType`.\n",
    "When a function has multiple parameters, because it is curried, its type is written `ParamType1 -> ParamType2 -> ... -> ParamTypeN -> ReturnType` (the function takes a parameter of type `ParamType1` and returns another function of type `ParamType2 -> ... -> ParamTypeN -> ReturnType`, which itself takes a parameter of type `ParamType2`, etc.)."
   ]
  },
  {
   "cell_type": "markdown",
   "metadata": {},
   "source": [
    "Sometimes, it is necessary to compose a sequence of functions to perform a computation.\n",
    "For example, consider the following snippet of code, which chains 3 function applications:"
   ]
  },
  {
   "cell_type": "code",
   "execution_count": null,
   "metadata": {
    "dotnet_interactive": {
     "language": "fsharp"
    },
    "vscode": {
     "languageId": "dotnet-interactive.fsharp"
    }
   },
   "outputs": [
    {
     "data": {
      "text/html": [
       "<div class=\"dni-plaintext\">576</div>"
      ]
     },
     "metadata": {},
     "output_type": "display_data"
    }
   ],
   "source": [
    "let mul x y = x * y\n",
    "\n",
    "let double = mul 2\n",
    "\n",
    "let triple = mul 3\n",
    "\n",
    "let square x = x * x\n",
    "\n",
    "square (triple (double 4))"
   ]
  },
  {
   "cell_type": "markdown",
   "metadata": {},
   "source": [
    "To make the kind of code presented above more readable, the *pipe* operator `|>` is very often used in F#.\n",
    "This infix operator takes the argument for a function as its left-hand side and the function to apply as its right-hand side, and it simply performs function application, as follows:"
   ]
  },
  {
   "cell_type": "code",
   "execution_count": null,
   "metadata": {
    "dotnet_interactive": {
     "language": "fsharp"
    },
    "vscode": {
     "languageId": "dotnet-interactive.fsharp"
    }
   },
   "outputs": [
    {
     "data": {
      "text/html": [
       "<div class=\"dni-plaintext\">576</div>"
      ]
     },
     "metadata": {},
     "output_type": "display_data"
    }
   ],
   "source": [
    "4 |> double |> triple |> square"
   ]
  },
  {
   "cell_type": "markdown",
   "metadata": {},
   "source": [
    "### Composite types\n",
    "\n",
    "In addition to the primitive types presented earlier, *composite* types are also available in F#:\n",
    "\n",
    "* **Tuples**: tuples can be used to group values of different types together. They are particularly useful when a function must return multiple values or in pattern matching. Elements in a tuple are separated by commas (`,`) and put between parentheses. For example, a tuple composed of a boolean, an integer and a string can be written `(true, 42, \"life\")`. The type of a tuple is written by listing the types of its elements, separated by `*` . The type of the tuple given as example is `bool * int * string`.\n",
    "\n",
    "* **Lists**: lists can be used to group an arbitrary number of values of the same type together. They are an example of one of the numerous collections commonly used in functional programming. A list literal is written between square brackets (`[` and `]`), with the values inside it separated by semicolons (`;`). For example, `[1; 2; 3]` is a list of integers. The empty list is `[]`. All of the values in a list must be of the same type. A value can be appended at the beginning of a list with the operator `::`, as in `1 :: 2 :: 3 :: []`, which is equivalent to `[1; 2; 3]`. As we have seen, in functional languages, values are immutable. This means that when we append a value to a list, a new list is returned by the operation, without mutating the original.\n",
    "\n",
    "* We will see other kinds of composite types later, in the section on functional collections.\n",
    "\n",
    "Elements of a tuple or a list are accessed with **pattern matching**, which we will get into later. "
   ]
  },
  {
   "cell_type": "markdown",
   "metadata": {},
   "source": [
    "### Polymorphism\n",
    "\n",
    "Just like functions can be parametrised by other values (their parameters) to guide their behaviour, types can be parametrised by other types in F#. \n",
    "When this is the case, a type is said to be [polymorphic](https://en.wikipedia.org/wiki/Polymorphism_(computer_science) ).\n",
    "\n",
    "For example, lists are polymorphic, because the same type structure can be used to contain values of type `int`, `bool` or any other type.\n",
    "The type of lists is written `list<'A>` to indicate that lists are parametrised by some type parameter `'A` (type parameters are always written starting with a `'` and between `<` and `>`, after a polymorphic type's name).\n",
    "When an actual list is built for some concrete type, the parameter `'A` is replaced by it in the type signature. \n",
    "For example, lists of integers have type `list<int>`, whereas lists of booleans have type `list<bool>`.\n",
    "\n",
    "Types can actually be parametrised by an arbitrary number of other types. For example, `Map`s (similar to dictionaries in other languages, as we will see later) have two type parameters denoting the types of their keys and values. `Map<string, int>` is a map that associates `string`s to `int`s, whereas `Map<bool, string>` is a mapping from `bool`s to `string`s."
   ]
  },
  {
   "cell_type": "markdown",
   "metadata": {},
   "source": [
    "### User defined types\n",
    "\n",
    "Just like in most other programming languages, it is possible to define new types from other ones in F#.\n",
    "\n",
    "There are two main kinds of user defined types in the language:\n",
    "\n",
    "#### Records \n",
    "\n",
    "Records are similar to structs in C. \n",
    "They group together values of potentially different types and give them names.\n",
    "The syntax to declare a new record type is:\n",
    "\n",
    "```f#\n",
    "type RecordName<'Param1, ..., 'ParamN> = { Field1: Type1; Field2: Type2; ...; FieldN: TypeN }\n",
    "```\n",
    "\n",
    "where `RecordName` is the record type's name, `'Param1` to `'ParamN` are optional type parameters, `Field1` to `FieldN` are the names given to the values in the record, and `Type1` to `TypeN` are their types.\n",
    "\n",
    "An instance of a record (that is, a value whose type is the record) is built with the syntax:\n",
    "\n",
    "```f#\n",
    "{ Field1 = value1; Field2 = value2; ...; FieldN = valueN }\n",
    "```\n",
    "\n",
    "The syntax to access one of the fields in a record is:\n",
    "\n",
    "```f#\n",
    "recordInstance.FieldName\n",
    "```\n",
    "\n",
    "Below is an example of a declaration for a record type, the construction of an instance for it and the access to one of its fields:"
   ]
  },
  {
   "cell_type": "code",
   "execution_count": null,
   "metadata": {
    "dotnet_interactive": {
     "language": "fsharp"
    },
    "vscode": {
     "languageId": "dotnet-interactive.fsharp"
    }
   },
   "outputs": [
    {
     "name": "stdout",
     "output_type": "stream",
     "text": [
      "Hello, Bob Kelso!\r\n"
     ]
    }
   ],
   "source": [
    "type Person = { Name: string; Surname: string; Age: int }\n",
    "\n",
    "let bob = { Name = \"Bob\"; Surname = \"Kelso\"; Age = 66 }\n",
    "\n",
    "printfn $\"Hello, {bob.Name} {bob.Surname}!\""
   ]
  },
  {
   "cell_type": "markdown",
   "metadata": {},
   "source": [
    "Like most values, record instances in F# are immutable. \n",
    "This means that once they are built, the values of their field cannot be written to, only read.\n",
    "Just like with variables, however, a record field can be made mutable with the `mutable` keyword.\n",
    "In practice, this feature is rarely used and if a record field must change, a new record is constructed instead."
   ]
  },
  {
   "cell_type": "markdown",
   "metadata": {},
   "source": [
    "#### Discriminated unions\n",
    "\n",
    "*Discriminated unions* (also called *variants* in other languages) are one of the features that make functional languages particularly powerful.\n",
    "Discriminated unions are used to represent the alternative forms that a value of some type can take.\n",
    "In that sense, they are similar to *enums* in other languages like C. \n",
    "They are, however, more expressive, because each alternative in a discrimated union can also carry data of some type with it.\n",
    "\n",
    "The syntax to define a new discrimated union is:\n",
    "\n",
    "```f#\n",
    "type DUName<'Param1, ..., 'ParamN> = \n",
    "    | Case1 of Type1 \n",
    "    | Case2 of Type2\n",
    "    | ...\n",
    "    | CaseN of TypeN\n",
    "```\n",
    "\n",
    "where `DUName` is the discriminated union's name, `'Param1` to `'ParamN` are optional type parameters, `Case1` to `CaseN` are the names of the different cases of the union and `Type1` to `TypeN` are optional types of data to be associated with each case.\n",
    "\n",
    "Below is an example of a definition of a discriminated union type, the instanciation of values of its type and comparisons between them:"
   ]
  },
  {
   "cell_type": "code",
   "execution_count": null,
   "metadata": {
    "dotnet_interactive": {
     "language": "fsharp"
    },
    "vscode": {
     "languageId": "dotnet-interactive.fsharp"
    }
   },
   "outputs": [
    {
     "name": "stdout",
     "output_type": "stream",
     "text": [
      "False\n",
      "True\n"
     ]
    }
   ],
   "source": [
    "type Profession =\n",
    "    | Student of string * int\n",
    "    | Professor of string\n",
    "    | Assistant of string * int\n",
    "\n",
    "let professor = Professor \"Computer Science\"\n",
    "\n",
    "let assistant = Assistant (\"Formal Methods\", 3)\n",
    "\n",
    "let student1 = Student (\"Computer Science\", 2)\n",
    "\n",
    "let student2 = Student (\"Computer Science\", 2)\n",
    "\n",
    "printfn $\"{assistant = professor}\"\n",
    "printfn $\"{student1 = student2}\""
   ]
  },
  {
   "cell_type": "markdown",
   "metadata": {},
   "source": [
    "Discriminated unions can be *self recursive*, which means that a discriminated union of some type can have its own type associated with its cases.\n",
    "This is for example how a binary tree can be implemented in F#:"
   ]
  },
  {
   "cell_type": "code",
   "execution_count": null,
   "metadata": {
    "dotnet_interactive": {
     "language": "fsharp"
    },
    "vscode": {
     "languageId": "dotnet-interactive.fsharp"
    }
   },
   "outputs": [],
   "source": [
    "type Tree =\n",
    "    | Node of Tree * int * Tree \n",
    "    | Leaf of int\n",
    "\n",
    "let sortedTree = Node (Node (Leaf 1, 2, Leaf 3), 4, Leaf 5)"
   ]
  },
  {
   "cell_type": "markdown",
   "metadata": {},
   "source": [
    "We will see in the next section how the values of a discriminated union can be *deconstructed* to access their values and to discriminate between their cases."
   ]
  },
  {
   "cell_type": "markdown",
   "metadata": {},
   "source": [
    "### Pattern matching\n",
    "\n",
    "*Pattern matching* is a powerful mechanism that can be used to match values and deconstruct them into their parts.\n",
    "It is mainly performed through **match expressions**, which have the following shape:\n",
    "\n",
    "```f#\n",
    "match expression with \n",
    "| pattern1 -> expression1\n",
    "| pattern2 -> expression2\n",
    "| ...\n",
    "| patternN -> expressionN\n",
    "```\n",
    "\n",
    "where `expression` is the expression to match, `pattern1` to `patternN` are *patterns* to be matched against the input expression and `expression1` to `expressionN` are the expressions that must be executed when their patterns match the input expression.\n",
    "\n",
    "Patterns can have multiple forms, depending on what expression the programmer is trying to match.\n",
    "They can be literals (integers, floats, booleans, strings, etc.), variable names, *tuple patterns* of the form `(p1, ..., pN)` where `p1` to `pN` are sub-patterns, or the names of cases in a discriminated union followed by a pattern for their associated value.\n",
    "Let's see an example of how the tree from the previous example can be deconstructed to make things clearer:"
   ]
  },
  {
   "cell_type": "code",
   "execution_count": null,
   "metadata": {
    "dotnet_interactive": {
     "language": "fsharp"
    },
    "vscode": {
     "languageId": "dotnet-interactive.fsharp"
    }
   },
   "outputs": [
    {
     "name": "stdout",
     "output_type": "stream",
     "text": [
      "The root is a node with value 4\n"
     ]
    }
   ],
   "source": [
    "match sortedTree with \n",
    "| Node (_, value, _) -> printfn $\"The root is a node with value {value}\" \n",
    "| Leaf value -> printfn $\"The root is a leaf with value {value}\""
   ]
  },
  {
   "cell_type": "markdown",
   "metadata": {},
   "source": [
    "In the example above, we observe how the value of `sortedTree` can be deconstructed with a `match` expression.\n",
    "The *arms* of the match expression describe the different actions to take depending on the case contained in `sortedTree`.\n",
    "If it is a `Node`, we ignore its left and right sub-trees with a *wildcard pattern* `_`, and we store in a new variable valled `value` the integer value that it contains.\n",
    "Then, we print the string `$\"The root is a node with value {value}\"`, where `value` is replaced by the number in local variable `value`.\n",
    "If the expression is a `Leaf`, we store its associated integer value in a new variable (also) called `value`, and then print a string like in the other branch.\n",
    "\n",
    "The example illustrates how patterns can be used in `match` expressions to determine the case of a value in a discriminated union and to access to its associated data.\n",
    "It also shows how tuple patterns can be used to decompose a tuple into its elements.\n",
    "\n",
    "Using pattern matching inside a recursive functions, it is very easy to write a function to traverse the tree and print its values in order:"
   ]
  },
  {
   "cell_type": "code",
   "execution_count": null,
   "metadata": {
    "dotnet_interactive": {
     "language": "fsharp"
    },
    "vscode": {
     "languageId": "dotnet-interactive.fsharp"
    }
   },
   "outputs": [
    {
     "name": "stdout",
     "output_type": "stream",
     "text": [
      "1\n",
      "2\n",
      "3\n",
      "4\n",
      "5\n"
     ]
    }
   ],
   "source": [
    "let rec traverse tree = \n",
    "    match tree with\n",
    "    | Node (left, value, right) -> traverse left; printfn $\"{value}\"; traverse right \n",
    "    | Leaf value -> printfn $\"{value}\"\n",
    "\n",
    "traverse sortedTree"
   ]
  },
  {
   "cell_type": "markdown",
   "metadata": {},
   "source": [
    "In the code above, the `;` symbols are used to perform the evaluation of expressions in a *sequence*.\n",
    "First, the expression to the left of the `;` is computed, then what remains to the right, and so on until the last expression in the sequence.\n",
    "\n",
    "Lists can also be deconstructed with pattern matching.\n",
    "Combined with recursive functions, this allows us to very simply define a way to iterate over a list:"
   ]
  },
  {
   "cell_type": "code",
   "execution_count": null,
   "metadata": {
    "dotnet_interactive": {
     "language": "fsharp"
    },
    "vscode": {
     "languageId": "dotnet-interactive.fsharp"
    }
   },
   "outputs": [
    {
     "data": {
      "text/html": [
       "<div class=\"dni-plaintext\">10</div>"
      ]
     },
     "metadata": {},
     "output_type": "display_data"
    }
   ],
   "source": [
    "let rec sum list =\n",
    "    match list with \n",
    "    | head :: tail -> head + (sum tail)\n",
    "    | [] -> 0\n",
    "\n",
    "sum [1; 2; 3; 4]"
   ]
  },
  {
   "cell_type": "markdown",
   "metadata": {},
   "source": [
    "We will see later that there are even simpler ways to interact with collections like lists in F#."
   ]
  },
  {
   "cell_type": "markdown",
   "metadata": {},
   "source": [
    "### Namespaces and modules"
   ]
  },
  {
   "cell_type": "markdown",
   "metadata": {},
   "source": [
    "### Functional collections"
   ]
  },
  {
   "cell_type": "markdown",
   "metadata": {},
   "source": [
    "## Additional resources"
   ]
  },
  {
   "cell_type": "markdown",
   "metadata": {},
   "source": [
    "* The official documentation of the F# language is available [here](https://learn.microsoft.com/en-us/dotnet/fsharp/). It is a good place to start if you want to dig a little deeper into the language after this introduction and learn a bit more about the .NET ecosystem in general.\n",
    "\n",
    "* Another excellent website to learn more about functional languages and F# in particular is [F# for Fun and Profit](https://fsharpforfunandprofit.com/). It contains a huge number of blog posts and tutorials about various concepts in functional programming and is often cited as one of the best resources to learn F#.\n",
    "\n",
    "* Although you won't need to write your own unit tests for the exercises and homework in this course, if you want to get a better understanding of how they work, you can check [this](https://learn.microsoft.com/en-us/dotnet/core/testing/unit-testing-fsharp-with-dotnet-test) and [this](http://fsprojects.github.io/FsUnit/xUnit.html).\n",
    "\n",
    "* A good environment is essential to have the best possible development experience in F#. Two great options to program in F# are to use the [Rider IDE](https://www.jetbrains.com/rider/) by [Jetbrains](https://www.jetbrains.com/) or the [Ionide](https://marketplace.visualstudio.com/items?itemName=Ionide.Ionide-fsharp) plugin for [VSCode](https://code.visualstudio.com/). A paid license is necessary to use Rider, but you can use your UNIGE email address to get a free [educational license](https://www.jetbrains.com/community/education/#students)."
   ]
  }
 ],
 "metadata": {
  "kernelspec": {
   "display_name": ".NET (F#)",
   "language": "F#",
   "name": ".net-fsharp"
  },
  "language_info": {
   "name": "F#"
  }
 },
 "nbformat": 4,
 "nbformat_minor": 2
}
