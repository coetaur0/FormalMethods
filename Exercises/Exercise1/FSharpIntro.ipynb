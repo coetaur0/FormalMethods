{
 "cells": [
  {
   "cell_type": "markdown",
   "metadata": {},
   "source": [
    "# Programming with F\\#"
   ]
  },
  {
   "cell_type": "markdown",
   "metadata": {},
   "source": [
    "## What is F# ?\n",
    "\n",
    "[F#](https://learn.microsoft.com/en-us/dotnet/fsharp/what-is-fsharp) is a [statically typed](https://en.wikipedia.org/wiki/Type_system#Static_type_checking), [functional](https://en.wikipedia.org/wiki/Functional_programming) programming language that is part of the [ML](https://en.wikipedia.org/wiki/ML_(programming_language) ) family.\n",
    "Originally intended to be an implementation of [OCaml](https://ocaml.org/) (another ML family language) on [.NET](https://dotnet.microsoft.com/en-us/) (the virtual machine used by Microsoft for its home-grown programming languages, such as [C#](https://en.wikipedia.org/wiki/C_Sharp_(programming_language) ) and [Visual Basic](https://en.wikipedia.org/wiki/Visual_Basic_.NET)), F# has eventually evolved to become its own, full blown programming language.\n",
    "\n",
    "The advantages of F# for software development are manifold:\n",
    "\n",
    "* Thanks to its strong, static type system, programs written in F# are guaranteed to be free from a wide range of errors otherwise common in dynamic languages such as Python or Ruby.\n",
    "It is a good example of the famous principle of [type safety](https://en.wikipedia.org/wiki/Type_safety) described by Robin Milner in 1978, stating that \"well typed programs do not go wrong\".\n",
    "\n",
    "* Altough F# is statically typed, programmers only very rarely need to write down type annotations in the language, thanks to the powerful [Hindley-Milner](https://en.wikipedia.org/wiki/Hindley%E2%80%93Milner_type_system) type inference algorithm used by its compiler.\n",
    "This can often give programmers the illusion of writing in a dynamic language, while retaining static type safety.\n",
    "\n",
    "* Being a functional programming language, F# encourages a declarative style of programming based on the composition of functions applied on immutable objects, with minimal use of side effects. This makes reasoning about programs easier that in imperative languages, which include a mutable state that can change at any moment and implicitly influence computations.\n",
    "\n",
    "* Although F# is designed to be *functional-first*, other approaches like the [object-oriented](https://en.wikipedia.org/wiki/Object-oriented_programming) paradigm are also supported by the language. In fact, F# is fully interoperable with C#, an object-oriented programming language widely used in the industry. This means that the rich ecosystem of libraries available for C# is also usable from F#.\n",
    "\n",
    "* Being an ML family member, F# is equipped with [algebraic data types](https://en.wikipedia.org/wiki/Algebraic_data_type) and [pattern matching](https://en.wikipedia.org/wiki/Pattern_matching), two powerful abstraction mechanisms that make it very expressive.\n",
    "\n",
    "In addition to all of the elements cited above, we will see that F# is also a good fit to implement the notions that will be addressed in the *formal methods* course.\n",
    "The high-level of abstraction of the language will allow us to easily express mathematical concepts and make the translation from theory to practice relatively straightforward. "
   ]
  },
  {
   "cell_type": "markdown",
   "metadata": {},
   "source": [
    "## F# Basics\n",
    "\n",
    "### Hello, World !\n",
    "\n",
    "Here is the customary *hello world* example written in F#:"
   ]
  },
  {
   "cell_type": "code",
   "execution_count": null,
   "metadata": {
    "dotnet_interactive": {
     "language": "fsharp"
    },
    "vscode": {
     "languageId": "dotnet-interactive.fsharp"
    }
   },
   "outputs": [
    {
     "name": "stdout",
     "output_type": "stream",
     "text": [
      "Hello, World!\r\n"
     ]
    }
   ],
   "source": [
    "printfn \"Hello, World!\""
   ]
  },
  {
   "cell_type": "markdown",
   "metadata": {},
   "source": [
    "In the code above, `printfn` is the name of a function from the language's standard library that can be used to print strings. \n",
    "The example shows how functions are called in F# (and in most other functional programming languages): the name of the function to be applied is written, followed by a list of arguments separated by spaces.\n",
    "Here, only one argument is passed to `printfn`, the string `\"Hello, World!\"`."
   ]
  },
  {
   "cell_type": "markdown",
   "metadata": {},
   "source": [
    "### Expressions\n",
    "\n",
    "The *hello world* program from the previous section is an example of a simple **expression** in F#.\n",
    "Expressions are a central element in functional languages: they express **computations** that need to be performed and **evaluate** to values that can be manipulated in a program.\n",
    "Function application and operations on values are examples of expressions. \n",
    "We will see that, in functional languages, control structures such as `if/then/else` are also expressions because they return values and they can be used as arguments to function applications or in variable definitions, for example."
   ]
  },
  {
   "cell_type": "markdown",
   "metadata": {},
   "source": [
    "#### Primitive Types:\n",
    "\n",
    "A number of primitive types that can be used in expressions are defined in F#:\n",
    "\n",
    "* **Integers**: they are expressed with literals in decimal form, such as `42` or `1337`. The usual operators are defined on them (`+`, `-`, `*`, `/`, etc.). Their type is `int`. An example of an expression that evaluates to an integer value is `42 * 2 - 12`.\n",
    "\n",
    "* **Floats**: floating point numbers are expressed as numbers with a decimal part, such as `0.5` or `1.3333333`. Again, the usual operators are defined on them. Their type is `float`. An example of an expression that evaluates to a `float` is `1.5 * 3.5`.\n",
    "\n",
    "* **Booleans**: the set of boolean values is `true` and `false`. Their type is denoted `bool`. The usual operations are defined on them: `||`, `&&`, `not`, etc. Comparison expressions (like `3 < 4`, for example) evaluate to boolean values. An example of an expression that evaluates to a `bool` is `3 < 10 == true || false`.\n",
    "\n",
    "* **Strings**: string literals are written between quotes, as we saw in the *hello world* example. Their type is `string`. In F#, it is possible to embed expressions inside of strings that will be replaced by their result at runtime. Those special strings (called **interpolated strings**) are prepended with a `$` sign, and expressions to be evaluated inside of them are placed between brackets. For example, the string `$\"{3 * 3}\"` will evaluate to `\"9\"` at runtime.\n",
    "\n",
    "* **Unit**: in functional languages, the special `unit` type is used to denote the absence of a meaningful value in a computation. It is more or less equivalent to `void` in C, or `None` in Python. `unit` is used to give a type to expressions that perform some action like printing a string in the console and whose return value is unimportant. The only value that has type `unit` in F# is `()`, the empty tuple. "
   ]
  },
  {
   "cell_type": "markdown",
   "metadata": {},
   "source": [
    "#### Variables\n",
    "\n",
    "Variables can be defined in F# with the syntax: \n",
    "\n",
    "```f#\n",
    "let name = expression\n",
    "\n",
    "other-expression\n",
    "```\n",
    "\n",
    "where `name` is the name to give to the variable, `expression` is the expression whose value must be assigned to `name`, and `other-expression` is just another expression to be evaluated after the variable definition that can use the variable's name in its body.\n",
    "\n",
    "Here is an example of a variable definition followed by its use:"
   ]
  },
  {
   "cell_type": "code",
   "execution_count": null,
   "metadata": {
    "dotnet_interactive": {
     "language": "fsharp"
    },
    "vscode": {
     "languageId": "dotnet-interactive.fsharp"
    }
   },
   "outputs": [
    {
     "data": {
      "text/html": [
       "<div class=\"dni-plaintext\">1764</div>"
      ]
     },
     "metadata": {},
     "output_type": "display_data"
    }
   ],
   "source": [
    "let x = 42\n",
    "\n",
    "x * x"
   ]
  },
  {
   "cell_type": "markdown",
   "metadata": {},
   "source": [
    "If the expression that must be assigned to a variable is too long to fit on one line, it can be written on the next.\n",
    "However, because F# is an **indentation based** language (like Python or Haskell), the expression must be indented to the right (the convention in F# is to use 4 spaces for each new indentation level):"
   ]
  },
  {
   "cell_type": "code",
   "execution_count": null,
   "metadata": {
    "dotnet_interactive": {
     "language": "fsharp"
    },
    "vscode": {
     "languageId": "dotnet-interactive.fsharp"
    }
   },
   "outputs": [
    {
     "name": "stdout",
     "output_type": "stream",
     "text": [
      "A string that is way too long to be written on a single line, because we like our lines to remain below 100 characters\r\n"
     ]
    }
   ],
   "source": [
    "let str =\n",
    "    \"A string that is way too long to be written on a single line, because we like our lines to \\\n",
    "     remain below 100 characters\"\n",
    "\n",
    "printfn $\"{str}\""
   ]
  },
  {
   "cell_type": "markdown",
   "metadata": {},
   "source": [
    "One particularity of variables in functional languages is that they aren't really 'variables' in the same sense as in imperative languages because, by default, once they have been defined, they cannot be **mutated**.\n",
    "Variables in functional languages are hence **immutable by default**.\n",
    "Conceptually, they are more similar to variables in mathematics: they are just names used to *abstract* over some value.\n",
    "\n",
    "It is possible, however, to make variables mutable in F# by using the `mutable` keyword.\n",
    "Mutable variables can then be modified later in the program by using the `<-` operator, as follows:"
   ]
  },
  {
   "cell_type": "code",
   "execution_count": null,
   "metadata": {
    "dotnet_interactive": {
     "language": "fsharp"
    },
    "vscode": {
     "languageId": "dotnet-interactive.fsharp"
    }
   },
   "outputs": [
    {
     "name": "stdout",
     "output_type": "stream",
     "text": [
      "43\r\n"
     ]
    }
   ],
   "source": [
    "let mutable x = 42\n",
    "\n",
    "x <- x + 1\n",
    "\n",
    "printfn $\"{x}\""
   ]
  },
  {
   "cell_type": "markdown",
   "metadata": {},
   "source": [
    "Although F# makes it possible to mutate variables, this style of programming is generally avoided in functional languages. \n",
    "We will see that we will actually almost never need to mutate variables in our programs."
   ]
  },
  {
   "cell_type": "markdown",
   "metadata": {},
   "source": [
    "#### Functions"
   ]
  },
  {
   "cell_type": "markdown",
   "metadata": {},
   "source": [
    "#### Control structures"
   ]
  },
  {
   "cell_type": "markdown",
   "metadata": {},
   "source": [
    "#### User defined types\n"
   ]
  },
  {
   "cell_type": "markdown",
   "metadata": {},
   "source": [
    "#### Pattern matching"
   ]
  },
  {
   "cell_type": "markdown",
   "metadata": {},
   "source": [
    "#### Namespaces and modules"
   ]
  },
  {
   "cell_type": "markdown",
   "metadata": {},
   "source": [
    "### Advanced topics in F#\n"
   ]
  },
  {
   "cell_type": "markdown",
   "metadata": {},
   "source": [
    "#### Object oriented programming"
   ]
  },
  {
   "cell_type": "markdown",
   "metadata": {},
   "source": [
    "#### Polymorphism"
   ]
  },
  {
   "cell_type": "markdown",
   "metadata": {},
   "source": [
    "### Tools and ecosystem"
   ]
  }
 ],
 "metadata": {
  "kernelspec": {
   "display_name": ".NET (F#)",
   "language": "F#",
   "name": ".net-fsharp"
  },
  "language_info": {
   "name": "F#"
  }
 },
 "nbformat": 4,
 "nbformat_minor": 2
}
